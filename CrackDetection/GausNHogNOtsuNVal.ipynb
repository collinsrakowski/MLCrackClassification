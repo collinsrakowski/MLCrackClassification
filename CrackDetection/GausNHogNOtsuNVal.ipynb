{
 "cells": [
  {
   "cell_type": "code",
   "execution_count": 71,
   "metadata": {},
   "outputs": [],
   "source": [
    "# Imports for Project\n",
    "import os\n",
    "import numpy as np"
   ]
  },
  {
   "cell_type": "markdown",
   "metadata": {},
   "source": [
    "Preparing Data"
   ]
  },
  {
   "cell_type": "code",
   "execution_count": 72,
   "metadata": {},
   "outputs": [
    {
     "name": "stdout",
     "output_type": "stream",
     "text": [
      "c:\\Users\\colli\\CompSci\\PatternProject\\CrackDetection/moredata/\n"
     ]
    }
   ],
   "source": [
    "base_dir = os.getcwd()\n",
    "data_path = f\"{base_dir}/moredata/\"\n",
    "os.listdir(data_path)\n",
    "print(data_path)\n",
    "\n",
    "import joblib\n",
    "from skimage.io import imread # loads an image from a file\n",
    "from skimage.transform import resize # resizes an image to a particular size\n",
    " \n",
    "def resize_all(src, pklname, include, width=227, height=227): # These should already be 227 pixels\n",
    "     \n",
    "    height = height if height is not None else width\n",
    "     \n",
    "    data = dict() #dictionary mapping\n",
    "    data['label'] = []\n",
    "    data['filename'] = []\n",
    "    data['data'] = []   \n",
    "     \n",
    "    pklname = f\"{pklname}_{width}x{height}px.pkl\"\n",
    " \n",
    "    # read all images in PATH, resize and write to DESTINATION_PATH\n",
    "    for subdir in os.listdir(src):\n",
    "        if subdir in include:\n",
    "            print(subdir)\n",
    "            current_path = os.path.join(src, subdir)\n",
    " \n",
    "            for file in os.listdir(current_path)[0:1300]:\n",
    "                if file[-3:] in {'jpg', 'png'}:\n",
    "                    im = imread(os.path.join(current_path, file))\n",
    "                    im = resize(im, (width, height)) #[:,:,::-1]\n",
    "                    data['label'].append(subdir[:-4])\n",
    "                    data['filename'].append(file)\n",
    "                    data['data'].append(im)\n",
    " \n",
    "        joblib.dump(data, pklname)"
   ]
  },
  {
   "cell_type": "code",
   "execution_count": 73,
   "metadata": {},
   "outputs": [
    {
     "name": "stdout",
     "output_type": "stream",
     "text": [
      "Negative\n",
      "Positive\n",
      "number of samples:  2600\n",
      "keys:  ['label', 'filename', 'data']\n",
      "image shape:  (227, 227, 3)\n",
      "labels: ['Nega' 'Posi']\n"
     ]
    },
    {
     "data": {
      "text/plain": [
       "Counter({'Nega': 1300, 'Posi': 1300})"
      ]
     },
     "execution_count": 73,
     "metadata": {},
     "output_type": "execute_result"
    }
   ],
   "source": [
    "# Resize all\n",
    "base_name = 'GausNHogNOtsunValtest'\n",
    "width = 227\n",
    "include = {'Negative', 'Positive'}\n",
    "resize_all(src=data_path, pklname=base_name, width=width, include=include)\n",
    "\n",
    "from collections import Counter\n",
    " \n",
    "data = joblib.load(f'{base_name}_{width}x{width}px.pkl')\n",
    " \n",
    "print('number of samples: ', len(data['data']))\n",
    "print('keys: ', list(data.keys()))\n",
    "print('image shape: ', data['data'][0].shape)\n",
    "print('labels:', np.unique(data['label']))\n",
    " \n",
    "Counter(data['label'])"
   ]
  },
  {
   "cell_type": "markdown",
   "metadata": {},
   "source": [
    "Split the dataset into 80 percent training and 20 percent testing"
   ]
  },
  {
   "cell_type": "code",
   "execution_count": 74,
   "metadata": {},
   "outputs": [],
   "source": [
    "X = np.array(data['data'])\n",
    "y = np.array(data['label'])\n",
    "f = np.array(data['filename'])\n",
    "\n",
    "from sklearn.model_selection import train_test_split\n",
    " \n",
    "X_train, X_test, y_train, y_test, f_train, f_test = train_test_split( #80 percent training, 20 percent testing data\n",
    "    X, \n",
    "    y,\n",
    "    f,  \n",
    "    test_size=0.2, \n",
    "    shuffle=True,\n",
    "    random_state=42,\n",
    ")"
   ]
  },
  {
   "cell_type": "markdown",
   "metadata": {},
   "source": [
    "Created Methods to Perform image transformation to every image"
   ]
  },
  {
   "cell_type": "code",
   "execution_count": 75,
   "metadata": {},
   "outputs": [],
   "source": [
    "from sklearn.base import BaseEstimator, TransformerMixin\n",
    "from skimage.feature import hog\n",
    "from skimage.feature import local_binary_pattern\n",
    "from skimage.feature import canny\n",
    "import skimage\n",
    "import cv2 as cv\n",
    " \n",
    "class RGB2GrayTransformer(BaseEstimator, TransformerMixin):\n",
    "    \"\"\"\n",
    "    Convert an array of RGB images to grayscale\n",
    "    \"\"\"\n",
    " \n",
    "    def __init__(self):\n",
    "        pass\n",
    " \n",
    "    def fit(self, X, y=None):\n",
    "        \"\"\"returns itself\"\"\"\n",
    "        return self\n",
    " \n",
    "    def transform(self, X, y=None):\n",
    "        \"\"\"perform the transformation and return an array\"\"\"\n",
    "        return np.array([skimage.color.rgb2gray(img) for img in X])\n",
    "\n",
    "class GaussianBlurTransformer():\n",
    "    def __init__(self) -> None:\n",
    "        pass\n",
    "\n",
    "    def transform(self, X, y=None):\n",
    "        return np.array([skimage.filters.gaussian(img, sigma=1.0) for img in X])\n",
    "        # skimage.filters.gaussian(gray_image, sigma=1.0)\n",
    "        \n",
    "        \n",
    "\n",
    "class ThresholdTransformer(): \n",
    "    def __init__(self) -> None:\n",
    "        pass\n",
    "\n",
    "    def regenerate_img(self, img, threshold):\n",
    "        row, col = img.shape \n",
    "        y = np.zeros((row, col))\n",
    "        for i in range(0,row):\n",
    "            for j in range(0,col):\n",
    "                if img[i,j] >= threshold:\n",
    "                    y[i,j] = 1\n",
    "                else:\n",
    "                    y[i,j] = 0\n",
    "        return y\n",
    "\n",
    "    def transform(self, X, y=None):\n",
    "        tempArr = []\n",
    "        for img in X: \n",
    "            t = skimage.filters.threshold_otsu(img)\n",
    "            img = self.regenerate_img(img, t)\n",
    "            tempArr.append(img)\n",
    "        return np.array(tempArr)\n",
    "        #skimage.filters.threshold_otsu(blurred_image)\n",
    "\n",
    "class HogTransformer(BaseEstimator, TransformerMixin):\n",
    "    \"\"\"\n",
    "    Expects an array of 2d arrays (1 channel images)\n",
    "    Calculates hog features for each img\n",
    "    \"\"\"\n",
    " \n",
    "    def __init__(self, y=None, orientations=9,\n",
    "                 pixels_per_cell=(8, 8),\n",
    "                 cells_per_block=(3, 3), block_norm='L2-Hys'):\n",
    "        self.y = y\n",
    "        self.orientations = orientations\n",
    "        self.pixels_per_cell = pixels_per_cell\n",
    "        self.cells_per_block = cells_per_block\n",
    "        self.block_norm = block_norm\n",
    " \n",
    "    def fit(self, X, y=None):\n",
    "        return self\n",
    " \n",
    "    def transform(self, X, y=None):\n",
    " \n",
    "        def local_hog(X):\n",
    "            return hog(X,\n",
    "                       orientations=self.orientations,\n",
    "                       pixels_per_cell=self.pixels_per_cell,\n",
    "                       cells_per_block=self.cells_per_block,\n",
    "                       block_norm=self.block_norm)\n",
    " \n",
    "        try: # parallel\n",
    "            return np.array([local_hog(img) for img in X])\n",
    "        except:\n",
    "            return np.array([local_hog(img) for img in X])\n",
    "\n",
    "class CannyTransformer(BaseEstimator, TransformerMixin):\n",
    " \n",
    "    def __init__(self) -> None:\n",
    "        pass\n",
    " \n",
    "    def transform(self, X, y=None):\n",
    "        return np.array([canny(img, sigma=1) for img in X]) # 8 and 2 idk what they mean\n",
    "\n",
    "class CannyTransformer2(BaseEstimator, TransformerMixin):\n",
    " \n",
    "    def __init__(self) -> None:\n",
    "        pass\n",
    " \n",
    "    def transform(self, X, y=None):\n",
    "        return np.array([cv.Canny((img*255).astype(np.uint8), 45, 250) for img in X]) # 8 and 2 idk what they mean\n",
    "\n",
    "class LBPTransformer(BaseEstimator, TransformerMixin):\n",
    " \n",
    "    def __init__(self) -> None:\n",
    "        pass\n",
    " \n",
    "    def transform(self, X, y=None):\n",
    "        return np.array([local_binary_pattern(img, 8, 2, method = 'uniform') for img in X]) # 8 and 2 idk what they mean"
   ]
  },
  {
   "cell_type": "markdown",
   "metadata": {},
   "source": [
    "Prepare the data by applying image transformations and HOG feature extraction"
   ]
  },
  {
   "cell_type": "code",
   "execution_count": 147,
   "metadata": {},
   "outputs": [
    {
     "name": "stdout",
     "output_type": "stream",
     "text": [
      "\n"
     ]
    },
    {
     "name": "stderr",
     "output_type": "stream",
     "text": [
      "c:\\ProgramData\\Anaconda3\\lib\\site-packages\\sklearn\\feature_selection\\_univariate_selection.py:289: RuntimeWarning: invalid value encountered in true_divide\n",
      "  correlation_coefficient /= X_norms\n"
     ]
    },
    {
     "name": "stdout",
     "output_type": "stream",
     "text": [
      "\n"
     ]
    },
    {
     "name": "stderr",
     "output_type": "stream",
     "text": [
      "c:\\ProgramData\\Anaconda3\\lib\\site-packages\\sklearn\\feature_selection\\_univariate_selection.py:289: RuntimeWarning: invalid value encountered in true_divide\n",
      "  correlation_coefficient /= X_norms\n"
     ]
    }
   ],
   "source": [
    "from skimage.feature import hog\n",
    "from sklearn.preprocessing import StandardScaler\n",
    "from sklearn.feature_selection import r_regression\n",
    "from sklearn.feature_selection import f_regression\n",
    "from sklearn.feature_selection import SelectKBest\n",
    "import cv2 as cv\n",
    "\n",
    "grayify = RGB2GrayTransformer() # Grayscale\n",
    "GBlur = GaussianBlurTransformer() # Gaussian Blur\n",
    "TTrans = ThresholdTransformer() # Otsu\n",
    "hogify = HogTransformer( \n",
    "    pixels_per_cell=(14, 14), #best 14,14\n",
    "    cells_per_block=(4,4), #2,2 #best 4,4\n",
    "    orientations=9, \n",
    "    block_norm='L2-Hys'\n",
    ")\n",
    "scalify = StandardScaler() # Normalize\n",
    "lbpify = LBPTransformer() \n",
    "cvcannyify = CannyTransformer2()\n",
    "\n",
    "def prepareData(X_train, y_train):\n",
    "    tempBinArr = []\n",
    "    for p in range(len(y_train)):\n",
    "        tempBinArr.append(str(y_train[p]))\n",
    "\n",
    "    for l in range(len(tempBinArr)):\n",
    "        if tempBinArr[l] == \"Nega\":\n",
    "            tempBinArr[l] = 0\n",
    "        else: \n",
    "            tempBinArr[l] = 1\n",
    "    print('')\n",
    "    y_train_binary = tempBinArr # This code needs to be uncommented if the feature selection is used\n",
    "    X_train_gray = grayify.fit_transform(X_train)\n",
    "    X_train_blur = GBlur.transform(X_train_gray)\n",
    "    X_train_otsu = TTrans.transform(X_train_blur)\n",
    "    X_train_hog = hogify.fit_transform(X_train_otsu) \n",
    "    X_train_scaled = scalify.fit_transform(X_train_hog)\n",
    "    X_train_hogOTSU = SelectKBest(f_regression, k=2500).fit_transform(X_train_scaled, y_train_binary) # Uncommented if the feature selection\n",
    "    X_train_prepared = X_train_hogOTSU #X_train_scaled\n",
    "    X_train_canny = cvcannyify.transform(X_train_blur) # Uncomment to use Canny Edge Detection\n",
    "    X_train_reshaped_canny = X_train_canny.reshape(X_train_canny.shape[0], X_train_canny.shape[1] * X_train_canny.shape[2]) # Uncomment to use Canny Edge Detection\n",
    "    X_train_prepared = X_train_reshaped_canny # Uncomment to use Canny Edge Detection\n",
    "    X_train_prepared = np.append(X_train_hogOTSU, X_train_reshaped_canny, axis=1)  # Uncomment to use Canny Edge Detection and HOG\n",
    "    return X_train_prepared\n",
    "\n",
    "X_train_prepared = prepareData(X_train, y_train)\n",
    "X_test_prepared = prepareData(X_test, y_test)"
   ]
  },
  {
   "cell_type": "markdown",
   "metadata": {},
   "source": [
    "Print Cross Validation Accuracy of the Training Data\n",
    "Create a Box Plot of the Cross Validation Accuracy"
   ]
  },
  {
   "cell_type": "code",
   "execution_count": 152,
   "metadata": {},
   "outputs": [
    {
     "name": "stdout",
     "output_type": "stream",
     "text": [
      "Cross Validation Accuracy -----------------------------------------------------------\n",
      "On training data\n",
      "[0.97115385 0.94951923 0.94711538 0.92788462 0.94951923]\n",
      "Accuracy: 0.95 (+/- 0.03)\n",
      "-------------------------------------------------------------------------------------\n"
     ]
    },
    {
     "data": {
      "image/png": "[encoded data removed]",
      "text/plain": [
       "<Figure size 360x360 with 1 Axes>"
      ]
     },
     "metadata": {
      "needs_background": "light"
     },
     "output_type": "display_data"
    }
   ],
   "source": [
    "from sklearn.svm import SVC\n",
    "from sklearn.model_selection import cross_validate\n",
    "from sklearn import metrics\n",
    "import matplotlib.pyplot as plt\n",
    "import numpy as np\n",
    "\n",
    "print('Cross Validation Accuracy -----------------------------------------------------------')\n",
    "print('On training data')\n",
    "svc_clf = SVC(gamma = 'scale', degree = 1)\n",
    "svc_result = cross_validate(svc_clf, X_train_prepared, y_train) # Defaults to 5 cross folds\n",
    "print(svc_result['test_score'])\n",
    "print(\"Accuracy: %0.2f (+/- %0.2f)\" % (svc_result['test_score'].mean(), svc_result['test_score'].std() * 2))\n",
    "print('-------------------------------------------------------------------------------------')\n",
    "fig = plt.figure(figsize =(5, 5))\n",
    " \n",
    "# Creating plot\n",
    "plt.boxplot(svc_result['test_score'])\n",
    " \n",
    "# show plot\n",
    "plt.show()\n",
    "\n"
   ]
  },
  {
   "cell_type": "markdown",
   "metadata": {},
   "source": [
    "Train Data on Four Machine Learning Models using the Training Data:\n",
    "    1. Stochastic Gradient Descent\n",
    "    2. KMeans\n",
    "    3. Logistic Regression\n",
    "    4. Support Vector Classifier"
   ]
  },
  {
   "cell_type": "code",
   "execution_count": 153,
   "metadata": {},
   "outputs": [
    {
     "name": "stderr",
     "output_type": "stream",
     "text": [
      "c:\\ProgramData\\Anaconda3\\lib\\site-packages\\sklearn\\linear_model\\_logistic.py:814: ConvergenceWarning: lbfgs failed to converge (status=1):\n",
      "STOP: TOTAL NO. of ITERATIONS REACHED LIMIT.\n",
      "\n",
      "Increase the number of iterations (max_iter) or scale the data as shown in:\n",
      "    https://scikit-learn.org/stable/modules/preprocessing.html\n",
      "Please also refer to the documentation for alternative solver options:\n",
      "    https://scikit-learn.org/stable/modules/linear_model.html#logistic-regression\n",
      "  n_iter_i = _check_optimize_result(\n"
     ]
    },
    {
     "data": {
      "text/plain": [
       "SVC(degree=1)"
      ]
     },
     "execution_count": 153,
     "metadata": {},
     "output_type": "execute_result"
    }
   ],
   "source": [
    "from sklearn.linear_model import SGDClassifier #Stochastic Gradient Descent - incrementally trained logistic regression\n",
    "from sklearn.cluster import KMeans\n",
    "from sklearn.linear_model import LogisticRegression #Logistic Regression is same as Stochastic Gradient Descent\n",
    "from sklearn.svm import SVC\n",
    "\n",
    "# Create ML Objects\n",
    "sgd_clf = SGDClassifier(random_state=42, max_iter=1000, tol=1e-3)\n",
    "kmeans = KMeans(n_clusters=4, random_state=42)\n",
    "lr_clf = LogisticRegression(random_state=42)\n",
    "svc_clf = SVC(gamma = 'scale', degree = 1) #auto and none\n",
    "\n",
    "# Train Data\n",
    "sgd_clf.fit(X_train_prepared, y_train)\n",
    "kmeans.fit(X_train_prepared, y_train)\n",
    "kmeans.labels_\n",
    "lr_clf.fit(X_train_prepared, y_train)\n",
    "svc_clf.fit(X_train_prepared, y_train)"
   ]
  },
  {
   "cell_type": "markdown",
   "metadata": {},
   "source": [
    "Use models to predict on the new test Dataset\n",
    "Prints the performance of the models on the new test data\n",
    "Prints a Confusion Matrix of data misclassified by the SVC"
   ]
  },
  {
   "cell_type": "code",
   "execution_count": 154,
   "metadata": {},
   "outputs": [
    {
     "name": "stdout",
     "output_type": "stream",
     "text": [
      "Testing Accuracy-----------------------------------------------------------\n",
      "\n",
      "Percentage correct Stochastic Gradient Descent:  88.65384615384616\n",
      "\n",
      "Percentage correct KMeans:  51.15384615384615\n",
      "\n",
      "Percentage correct Logistic Regression:  93.07692307692308\n",
      "\n",
      "Percentage correct Support Vector Classifier:  96.15384615384616\n",
      "\n",
      "-------------------------------------------------------------------------\n"
     ]
    },
    {
     "data": {
      "text/plain": [
       "<sklearn.metrics._plot.confusion_matrix.ConfusionMatrixDisplay at 0x23b451e5850>"
      ]
     },
     "execution_count": 154,
     "metadata": {},
     "output_type": "execute_result"
    },
    {
     "data": {
      "image/png": "[encoded data removed]",
      "text/plain": [
       "<Figure size 432x288 with 2 Axes>"
      ]
     },
     "metadata": {
      "needs_background": "light"
     },
     "output_type": "display_data"
    }
   ],
   "source": [
    "from sklearn.metrics import ConfusionMatrixDisplay\n",
    "from sklearn.metrics import confusion_matrix\n",
    "\n",
    "print('Testing Accuracy-----------------------------------------------------------')\n",
    "\n",
    "y_pred = sgd_clf.predict(X_test_prepared)\n",
    "print('')\n",
    "print('Percentage correct Stochastic Gradient Descent: ', 100*np.sum(y_pred == y_test)/len(y_test))\n",
    "\n",
    "ky_pred = kmeans.predict(X_test_prepared)\n",
    "tempArr = []\n",
    "for p in range(len(ky_pred)):\n",
    "    tempArr.append(str(ky_pred[p]))\n",
    "\n",
    "for l in range(len(tempArr)):\n",
    "    if tempArr[l] == \"0\":\n",
    "        tempArr[l] = \"Posi\"\n",
    "    else: \n",
    "        tempArr[l] = \"Nega\"\n",
    "print('')\n",
    "print('Percentage correct KMeans: ', 100*np.sum(tempArr == y_test)/len(y_test))\n",
    "\n",
    "lr_pred = lr_clf.predict(X_test_prepared)\n",
    "print('')\n",
    "print('Percentage correct Logistic Regression: ', 100*np.sum(lr_pred == y_test)/len(y_test))\n",
    "\n",
    "svc_pred = svc_clf.predict(X_test_prepared)\n",
    "print('')\n",
    "print('Percentage correct Support Vector Classifier: ', 100*np.sum(svc_pred == y_test)/len(y_test))\n",
    "\n",
    "print('')\n",
    "print('-------------------------------------------------------------------------')\n",
    "\n",
    "cm = confusion_matrix(y_test, svc_pred)\n",
    "disp = ConfusionMatrixDisplay(confusion_matrix=cm, display_labels= svc_clf.classes_)\n",
    "disp.plot() # Prints confusion matrix for only SVC"
   ]
  },
  {
   "cell_type": "markdown",
   "metadata": {},
   "source": [
    "The following code is used to identify misclassified images"
   ]
  },
  {
   "cell_type": "code",
   "execution_count": 155,
   "metadata": {},
   "outputs": [
    {
     "name": "stdout",
     "output_type": "stream",
     "text": [
      "c:\\Users\\colli\\CompSci\\PatternProject\\CrackDetection/moredata/\n",
      "Wrongly Classified as NO C: \n",
      "5\n",
      "00635.jpg\n",
      "Wrongly Classified as Crack: \n",
      "29\n",
      "01118.jpg\n",
      "Wrongly Classified as Crack: \n",
      "88\n",
      "01270.jpg\n",
      "Wrongly Classified as NO C: \n",
      "115\n",
      "00295.jpg\n",
      "Wrongly Classified as Crack: \n",
      "155\n",
      "00565.jpg\n",
      "Wrongly Classified as Crack: \n",
      "158\n",
      "00811.jpg\n",
      "Wrongly Classified as NO C: \n",
      "232\n",
      "01042.jpg\n",
      "Wrongly Classified as NO C: \n",
      "263\n",
      "00975.jpg\n",
      "Wrongly Classified as Crack: \n",
      "304\n",
      "00742.jpg\n",
      "Wrongly Classified as NO C: \n",
      "313\n",
      "00056.jpg\n",
      "Wrongly Classified as NO C: \n",
      "330\n",
      "00651.jpg\n",
      "Wrongly Classified as NO C: \n",
      "351\n",
      "00192.jpg\n",
      "Wrongly Classified as Crack: \n",
      "361\n",
      "00180.jpg\n",
      "Wrongly Classified as NO C: \n",
      "399\n",
      "00065.jpg\n",
      "Wrongly Classified as NO C: \n",
      "416\n",
      "00650.jpg\n",
      "Wrongly Classified as Crack: \n",
      "419\n",
      "00354.jpg\n",
      "Wrongly Classified as NO C: \n",
      "441\n",
      "00181.jpg\n",
      "Wrongly Classified as NO C: \n",
      "447\n",
      "00952.jpg\n",
      "Wrongly Classified as NO C: \n",
      "483\n",
      "00276.jpg\n",
      "Wrongly Classified as Crack: \n",
      "488\n",
      "00441.jpg\n"
     ]
    }
   ],
   "source": [
    "import matplotlib.pyplot as plt\n",
    "import skimage.io\n",
    "\n",
    "base_dir = os.getcwd()\n",
    "data_path = f\"{base_dir}/moredata/\"\n",
    "os.listdir(data_path)\n",
    "print(data_path)\n",
    "negative_path = os.path.join(data_path, 'Negative')\n",
    "positive_path = os.path.join(data_path, 'Positive')\n",
    "\n",
    "int = 0\n",
    "for x in y_test:\n",
    "    if x != svc_pred[int]:\n",
    "        if x == 'Nega':\n",
    "            print(\"Wrongly Classified as Crack: \")\n",
    "            print(int)\n",
    "            print(f_test[int])\n",
    "        else:\n",
    "            print(\"Wrongly Classified as NO C: \")\n",
    "            print(int)\n",
    "            print(f_test[int])\n",
    "    int = int + 1\n"
   ]
  },
  {
   "cell_type": "markdown",
   "metadata": {},
   "source": [
    "The misclassified image from the previous code block can be manually visually inspected using the code block below"
   ]
  },
  {
   "cell_type": "code",
   "execution_count": 156,
   "metadata": {},
   "outputs": [
    {
     "name": "stdout",
     "output_type": "stream",
     "text": [
      "Wrongly Classified as Crack Image: \n",
      "00818.jpg\n"
     ]
    },
    {
     "data": {
      "image/png": "[encoded data removed]",
      "text/plain": [
       "<Figure size 432x288 with 1 Axes>"
      ]
     },
     "metadata": {
      "needs_background": "light"
     },
     "output_type": "display_data"
    }
   ],
   "source": [
    "# This code prints the misclassified pictures to screen\n",
    "#bet\n",
    "imageNumber = 380\n",
    "file = f_test[imageNumber]\n",
    "decision = True\n",
    "if decision == True: \n",
    "    print(\"Wrongly Classified as Crack Image: \")\n",
    "    image = skimage.io.imread(os.path.join(negative_path, file))\n",
    "    plt.imshow(image)\n",
    "    print(file)\n",
    "else:\n",
    "    print(\"Wrongly Classified as NO Crack Image: \")\n",
    "    image = skimage.io.imread(os.path.join(positive_path, file))\n",
    "    plt.imshow(image)\n",
    "    print(file)"
   ]
  }
 ],
 "metadata": {
  "kernelspec": {
   "display_name": "Python 3.9.12 ('base')",
   "language": "python",
   "name": "python3"
  },
  "language_info": {
   "codemirror_mode": {
    "name": "ipython",
    "version": 3
   },
   "file_extension": ".py",
   "mimetype": "text/x-python",
   "name": "python",
   "nbconvert_exporter": "python",
   "pygments_lexer": "ipython3",
   "version": "3.9.12"
  },
  "orig_nbformat": 4,
  "vscode": {
   "interpreter": {
    "hash": "ad2bdc8ecc057115af97d19610ffacc2b4e99fae6737bb82f5d7fb13d2f2c186"
   }
  }
 },
 "nbformat": 4,
 "nbformat_minor": 2
}
